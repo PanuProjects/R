{
 "metadata": {
  "language_info": {
   "codemirror_mode": {
    "name": "ipython",
    "version": 3
   },
   "file_extension": ".py",
   "mimetype": "text/x-python",
   "name": "python",
   "nbconvert_exporter": "python",
   "pygments_lexer": "ipython3",
   "version": "3.9.0-final"
  },
  "orig_nbformat": 2,
  "kernelspec": {
   "name": "python3",
   "display_name": "Python 3.9.0 64-bit ('.venv')",
   "metadata": {
    "interpreter": {
     "hash": "1ef7578e21abbdd689efe55bfc3e8bd4a5a0df770a2a3dda8a3a121f730a9cb8"
    }
   }
  }
 },
 "nbformat": 4,
 "nbformat_minor": 2,
 "cells": [
  {
   "cell_type": "code",
   "execution_count": 2,
   "metadata": {},
   "outputs": [
    {
     "output_type": "stream",
     "name": "stdout",
     "text": [
      "Packages loaded\n",
      "Data loaded succesfully\n",
      "Transformed data\n",
      "Connected to database and writing\n",
      "Created time columns\n",
      "Created new dataframe and loaded the data to hourly_wind_coverage\n",
      "Grouping by year, month, day respect to percentage succesfull. Loaded to db\n",
      "Grouping by year, month respect to percentage succesfull. Loaded to db\n"
     ]
    },
    {
     "output_type": "execute_result",
     "data": {
      "text/plain": [
       "'\\n* 3. -  Analyze how much of the Finnish consumption can be covered with wind generated electricity.\\n* Are the results different for different time resolutions? o/\\n* How much of the Finnish electricity consumption can be met with wind production? o/\\n'"
      ]
     },
     "metadata": {},
     "execution_count": 2
    }
   ],
   "source": [
    "\"\"\"\n",
    "# Exercise 1 instructions\n",
    "## Prequisities \n",
    "* Virtual environment up and running, see instructions from repository root\n",
    "* Add `secrets.py` file to exercise folder. You get the content from instructors\n",
    "                    ################################### Backlogi #######################\n",
    "1. - Lue data: wind power generation (ID 75) ja electricity consumption in Finland (124)\n",
    "2. - Store API data in your own SQLite database\n",
    "3. -  Analyze how much of the Finnish consumption can be covered with wind generated electricity.\n",
    "* Store the hourly percentage of wind generated / total  consumption to your database. (See table: hourly_wind_coverage)\n",
    "* Note that this database has different date schema, so you need to generate year, month, day and  hour values, too.\n",
    "* For example, extracting the year can be done with pd.to_datetime(df['start_time']).dt.year\n",
    "4. - Resample the hourly percentages to daily level by taking the mean on the daily level.\n",
    "* Store the results in the database (table: daily_wind_coverage)\n",
    "- Repeat step number four but do the grouping based on month (table: monthly_wind_coverage).\n",
    "* Are the results different for different time resolutions?\n",
    "* How much of the Finnish electricity consumption can be met with wind production? \n",
    "\"\"\"\n",
    "\n",
    "# APIs here: https://data.fingrid.fi/en/\n",
    "#https://data.fingrid.fi/en/dataset/wind-power-generation) and electricity consumption in Finland (https://data.fingrid.fi/en/dataset/electricity-consumption-in-finland). Their variable ids that are used in endpoints are 75 (wind) and 124 (consumption).\n",
    "\n",
    "#fingrid_api_token ='qFXtrmshfU7X9pvBq6Zbiavr5L3IQLtu89vRb4a2'\n",
    "#venv\\Scripts\\activate\n",
    "\n",
    "\n",
    "#%%\n",
    "\n",
    "import requests\n",
    "import pandas as pd\n",
    "from datetime import datetime\n",
    "import json\n",
    "import sqlite3\n",
    "#import plotly as go\n",
    "import plotly.graph_objects as go\n",
    "\n",
    "print('Packages loaded')\n",
    "\n",
    "api_key = 'qFXtrmshfU7X9pvBq6Zbiavr5L3IQLtu89vRb4a2'\n",
    "#url = 'https://data.fingrid.fi/en/' # Linkki Apiin?\n",
    "\n",
    "#pariohjelmointi:\n",
    "#solita core 2019 - vili heikkilä & niila gauriloff\n",
    "#medium - pair coding \n",
    "\n",
    "\n",
    "# %% \n",
    "# \n",
    "# #1. - Lue data: wind power generation (ID 75) ja electricity consumption in Finland (124)\n",
    "\n",
    "\n",
    "#API vastaa osoitteessa https://api.fingrid.fi/\n",
    "#Ollaan kiinnostuneita kahdesta datasetistä: are 75 (wind) and 124 (consumption)\n",
    "#Rekisteröitymisen yhteydessä saamasi API-key lisätään sellaisenaan http-kutsujen headeriin x-api-key. \n",
    "# Avainta ei tule käyttää esimerkiksi selaimen URL-osoiterivillä. Jos haet dataa suoraan johonkin sovellukseen, voit tyypillisesti määritellä sovelluksessasi API:n URL-osoitteen yhteyteen muita parametrejä ja sijoittaa avaimen siihen.\n",
    "\n",
    "\n",
    "#Data timestamps are presented in UTC (prev. GMT) time format. Correct format for API requests is YYYY-MM-ddTHH:mm:ssZ\n",
    "#https://data.fingrid.fi/en/\n",
    "ts=datetime.now().date()\n",
    "\n",
    "\n",
    "# Dates to string and formarting of beginning point\n",
    "end_time = str(ts.strftime('%Y-%m-%d')+'T00:00:00Z')\n",
    "start_time = str(end_time.replace('21', '15'))\n",
    "\n",
    "\n",
    "#fingrid_url = 'https://data.fingrid.fi/en/json?start_time={}&end_time={}'.format(start_time, end_time)\n",
    "fingrid_url_generation ='https://api.fingrid.fi/v1/variable/75/events/json?start_time={}&end_time={}'.format(start_time, end_time)\n",
    "fingrid_url_consum ='https://api.fingrid.fi/v1/variable/124/events/json?start_time={}&end_time={}'.format(start_time, end_time)\n",
    "\n",
    "#fingrid_url = 'https://api.fingrid.fi/v1/variable/75/events/json'\n",
    "#fingrid_url = 'https://api.fingrid.fi/v1/variable/75/events/json??start_time=2018-01-01T00:00:00Z&end_time=2019-06-11T00:00:00Z'\n",
    "\n",
    "#API vastaa osoitteessa https://api.fingrid.fi/...\n",
    "#https://data.fingrid.fi/en/json?start_time=2020-03-12T00:00:00Z&end_time=2021-03-12T00:00:00Z\n",
    "token = api_key\n",
    "headers = {'x-api-key': '{}'.format(token)}\n",
    "#params={'start_time': start_time, 'end_time': end_time}\n",
    "response_generation = requests.get(fingrid_url_generation, headers=headers)\n",
    "response_consum = requests.get(fingrid_url_consum, headers=headers)\n",
    "\n",
    "#print(response.json())\n",
    "\n",
    "#params={‘start_time’: dt_str2, ‘end_time’: dt_str1}\n",
    "#response = requests.get(fingrid_url, headers=headers)\n",
    "\n",
    "print('Data loaded succesfully')\n",
    "\n",
    "\n",
    "    # access JSOn content\n",
    "#jsonResponse = response.json()\n",
    "\n",
    "\n",
    "#%%\n",
    "\n",
    "\n",
    "#url = ‘https://api.fingrid.fi/v1/variable/75/events/json?start_time=2018-01-01T00:00:00Z&end_time=2019-06-11T00:00:00Z'\n",
    "\n",
    "\n",
    "\n",
    "jsonConsum = response_consum.json()\n",
    "jsonGeneration = response_generation.json()\n",
    "\n",
    "\n",
    "ConsumDF=pd.DataFrame(jsonConsum)\n",
    "GenerationDF=pd.DataFrame(jsonGeneration)\n",
    "\n",
    "print('Transformed data')\n",
    "\n",
    "\n",
    "#%%\n",
    "\n",
    "\n",
    "\"\"\"\n",
    "2. Store API data in your own SQLite database. You can use the attached .db file for a starting point.\n",
    " (Use SQLite browser to investigate tables: electricity_consumption and wind_power_generation).\n",
    "  The tables’ variable names match API variable names, so writing to database can be done easily with e.g. Pandas to_sql function. \n",
    "\"\"\"\n",
    "\n",
    "conn = sqlite3.connect('finnish_wind_power_orig.db')\n",
    "c = conn.cursor()\n",
    "\n",
    "\n",
    "ConsumDF.to_sql('electricity_consumption', conn, if_exists='replace', index = False)\n",
    "GenerationDF.to_sql('wind_power_generation', conn, if_exists='replace', index = False)\n",
    "\n",
    "\n",
    "print('Connected to database and writing')\n",
    "\n",
    "# %%\n",
    "\n",
    "\"\"\"\n",
    "3. -  Analyze how much of the Finnish consumption can be covered with wind generated electricity.\n",
    "    * Store the hourly percentage of wind generated / total  consumption to your database. (See table: hourly_wind_coverage)\n",
    "    * Note that this database has different date schema, so you need to generate year, month, day and  hour values, too.\n",
    "    * For example, extracting the year can be done with pd.to_datetime(df['start_time']).dt.year\n",
    "\"\"\"\n",
    "\n",
    "#hourly_wind_coverage2 = ConsumDF\n",
    "#del hourly_wind_coverage\n",
    "\n",
    "\n",
    "\n",
    "#%%\n",
    "\n",
    "\n",
    "year = pd.to_datetime(ConsumDF['start_time']).dt.year\n",
    "#hourly_wind_coverage2.insert(1, 'year', year)\n",
    "\n",
    "month = pd.to_datetime(ConsumDF['start_time']).dt.month\n",
    "#hourly_wind_coverage2.insert(1, 'month', month)\n",
    "\n",
    "day = pd.to_datetime(ConsumDF['start_time']).dt.day\n",
    "#hourly_wind_coverage2.insert(1, 'day', day)\n",
    "\n",
    "hour = pd.to_datetime(ConsumDF['start_time']).dt.hour\n",
    "#hourly_wind_coverage2.insert(1, 'hour', hour)\n",
    "\n",
    "percentage =  GenerationDF['value'] / ConsumDF['value'] \n",
    "#hourly_wind_coverage2.insert(1, 'percentage', percentage)\n",
    "\n",
    "print('Created time columns')\n",
    "\n",
    "\n",
    "\n",
    "#hourly_wind_coverage_tosql = hourly_wind_coverage.drop(['start_time', 'end_time'], axis=1)\n",
    "#%%\n",
    "#hourly_wind_coverage2.drop(columns=['start_time', 'end_time'])\n",
    "\n",
    "\n",
    "hourly_wind_coverage = pd.DataFrame(({'year': year}))\n",
    "hourly_wind_coverage['month'] = month\n",
    "hourly_wind_coverage['day'] = day\n",
    "hourly_wind_coverage['hour'] = hour\n",
    "hourly_wind_coverage['percentage'] = percentage\n",
    "hourly_wind_coverage['value'] = ConsumDF['value'] #Kulutuksen arvo\n",
    "\n",
    "hourly_wind_coverage.to_sql('hourly_wind_coverage', conn, if_exists='replace', index = False)\n",
    "\n",
    "generation_mmddyy = pd.DataFrame(({'year': year}))\n",
    "generation_mmddyy['month'] = month\n",
    "generation_mmddyy['day'] = day\n",
    "generation_mmddyy['hour'] = hour\n",
    "generation_mmddyy['value'] = GenerationDF['value']\n",
    "\n",
    "print('Created new dataframe and loaded the data to hourly_wind_coverage')\n",
    "\n",
    "\n",
    "#%%\n",
    "#hourly_wind_coverage = ConsumDF\n",
    "\n",
    "hourly_wind_coverage.to_sql('hourly_wind_coverage', conn, if_exists='replace', index = False)\n",
    "\n",
    "\n",
    "#%%\n",
    "\"\"\"\n",
    "4. - Resample the hourly percentages to daily level by taking the mean on the daily level.\n",
    "* Store the results in the database (table: daily_wind_coverage)\n",
    "\"\"\"\n",
    "\n",
    "\n",
    "grouped_hourly_wind_coverage = hourly_wind_coverage.groupby(['year', 'month','day']).agg({'percentage': ['mean']})\n",
    "grouped_hourly_wind_coverage.columns = ['percentage']\n",
    "grouped_hourly_wind_coverage = grouped_hourly_wind_coverage.reset_index()\n",
    "\n",
    "grouped_hourly_wind_coverage.to_sql('daily_wind_coverage', conn, if_exists='replace', index = False)\n",
    "\n",
    "#grouped_hourly_generation_mmddyy = generation_mmddyy.groupby(['year', 'month','day']).agg({'percentage': ['mean']})\n",
    "\n",
    "\n",
    "print('Grouping by year, month, day respect to percentage succesfull. Loaded to db')\n",
    "#%%\n",
    "\n",
    "\"\"\"\n",
    "- Repeat step number four but do the grouping based on month (table: monthly_wind_coverage).\n",
    "* Are the results different for different time resolutions? o/\n",
    "* How much of the Finnish electricity consumption can be met with wind production? o/\n",
    "\"\"\"\n",
    "\n",
    "grouped_monthly_wind_coverage = hourly_wind_coverage.groupby(['year', 'month']).agg({'percentage': ['mean']})\n",
    "grouped_monthly_wind_coverage.columns = ['percentage']\n",
    "grouped_monthly_wind_coverage = grouped_monthly_wind_coverage.reset_index()\n",
    "\n",
    "grouped_year_wind_coverage = hourly_wind_coverage.groupby(['year']).agg({'percentage': ['mean']})\n",
    "grouped_year_wind_coverage.columns = ['percentage']\n",
    "grouped_year_wind_coverage = grouped_year_wind_coverage.reset_index()\n",
    "\n",
    "\n",
    "\n",
    "\n",
    "grouped_monthly_wind_coverage.to_sql('monthly_wind_coverage', conn, if_exists='replace', index = False)\n",
    "\n",
    "#str(grouped_hourly_wind_coverage['year'])\n",
    "\n",
    "print('Grouping by year, month respect to percentage succesfull. Loaded to db')\n",
    "\n",
    "#%%\n",
    "\n",
    "#Groupataan myös huvikseen arvot\n",
    "#generation_mmddyy\n",
    "\n",
    "grouped_year_generation_mmddyy = generation_mmddyy.groupby(['year']).agg({'value': ['sum']})\n",
    "grouped_year_generation_mmddyy.columns = ['wind_gen_yearly']\n",
    "grouped_year_generation_mmddyy = grouped_year_generation_mmddyy.reset_index()\n",
    "\n",
    "grouped_year_wind_coverage = hourly_wind_coverage.groupby(['year']).agg({'value': ['sum']})\n",
    "grouped_year_wind_coverage.columns = ['wind_cons_yearly']\n",
    "grouped_year_wind_coverage = grouped_year_generation_mmddyy.reset_index()\n",
    "\n",
    "\n",
    "#%%\n",
    "\"\"\"\n",
    "* 3. -  Analyze how much of the Finnish consumption can be covered with wind generated electricity.\n",
    "* Are the results different for different time resolutions? o/\n",
    "* How much of the Finnish electricity consumption can be met with wind production? o/\n",
    "\"\"\"\n",
    "\n",
    "# Miten kokonaiskulutus on muuttunut\n",
    "# Miten tuulivoimakapasiteetti on muuttunut\n",
    "# --> Barplottiin kummatkin vierekkäin, ylhäälle prosenttiluvusta viivakuvio\n",
    "# Päivä/Yö, Seasonality\n",
    "# Basic summary-statistiikat\n",
    "# Scatterplotit kummastakin (näkee outliereita). Päivä \n",
    "# Boxplotit kummastakin\n",
    "\n",
    "#Datan aikaväli 15-21\n",
    "\n",
    "#%%\n",
    "\n",
    "#hourly_wind_coverage kokonaiskulutuksen arvot\n",
    "# generation_mmddyy tuotannon arvot\n",
    "\n",
    "\n",
    "\n",
    "\n"
   ]
  },
  {
   "cell_type": "code",
   "execution_count": 3,
   "metadata": {},
   "outputs": [
    {
     "output_type": "display_data",
     "data": {
      "application/vnd.plotly.v1+json": {
       "config": {
        "plotlyServerURL": "https://plot.ly"
       },
       "data": [
        {
         "marker": {
          "color": "indianred"
         },
         "name": "Yearly produced windpower",
         "type": "bar",
         "x": [
          "2015",
          "2016",
          "2017",
          "2018",
          "2019",
          "2020",
          "2021"
         ],
         "y": [
          1821180,
          2868260,
          4124106,
          5412646,
          6143143,
          6958061,
          1244945
         ]
        }
       ],
       "layout": {
        "template": {
         "data": {
          "bar": [
           {
            "error_x": {
             "color": "#2a3f5f"
            },
            "error_y": {
             "color": "#2a3f5f"
            },
            "marker": {
             "line": {
              "color": "#E5ECF6",
              "width": 0.5
             }
            },
            "type": "bar"
           }
          ],
          "barpolar": [
           {
            "marker": {
             "line": {
              "color": "#E5ECF6",
              "width": 0.5
             }
            },
            "type": "barpolar"
           }
          ],
          "carpet": [
           {
            "aaxis": {
             "endlinecolor": "#2a3f5f",
             "gridcolor": "white",
             "linecolor": "white",
             "minorgridcolor": "white",
             "startlinecolor": "#2a3f5f"
            },
            "baxis": {
             "endlinecolor": "#2a3f5f",
             "gridcolor": "white",
             "linecolor": "white",
             "minorgridcolor": "white",
             "startlinecolor": "#2a3f5f"
            },
            "type": "carpet"
           }
          ],
          "choropleth": [
           {
            "colorbar": {
             "outlinewidth": 0,
             "ticks": ""
            },
            "type": "choropleth"
           }
          ],
          "contour": [
           {
            "colorbar": {
             "outlinewidth": 0,
             "ticks": ""
            },
            "colorscale": [
             [
              0,
              "#0d0887"
             ],
             [
              0.1111111111111111,
              "#46039f"
             ],
             [
              0.2222222222222222,
              "#7201a8"
             ],
             [
              0.3333333333333333,
              "#9c179e"
             ],
             [
              0.4444444444444444,
              "#bd3786"
             ],
             [
              0.5555555555555556,
              "#d8576b"
             ],
             [
              0.6666666666666666,
              "#ed7953"
             ],
             [
              0.7777777777777778,
              "#fb9f3a"
             ],
             [
              0.8888888888888888,
              "#fdca26"
             ],
             [
              1,
              "#f0f921"
             ]
            ],
            "type": "contour"
           }
          ],
          "contourcarpet": [
           {
            "colorbar": {
             "outlinewidth": 0,
             "ticks": ""
            },
            "type": "contourcarpet"
           }
          ],
          "heatmap": [
           {
            "colorbar": {
             "outlinewidth": 0,
             "ticks": ""
            },
            "colorscale": [
             [
              0,
              "#0d0887"
             ],
             [
              0.1111111111111111,
              "#46039f"
             ],
             [
              0.2222222222222222,
              "#7201a8"
             ],
             [
              0.3333333333333333,
              "#9c179e"
             ],
             [
              0.4444444444444444,
              "#bd3786"
             ],
             [
              0.5555555555555556,
              "#d8576b"
             ],
             [
              0.6666666666666666,
              "#ed7953"
             ],
             [
              0.7777777777777778,
              "#fb9f3a"
             ],
             [
              0.8888888888888888,
              "#fdca26"
             ],
             [
              1,
              "#f0f921"
             ]
            ],
            "type": "heatmap"
           }
          ],
          "heatmapgl": [
           {
            "colorbar": {
             "outlinewidth": 0,
             "ticks": ""
            },
            "colorscale": [
             [
              0,
              "#0d0887"
             ],
             [
              0.1111111111111111,
              "#46039f"
             ],
             [
              0.2222222222222222,
              "#7201a8"
             ],
             [
              0.3333333333333333,
              "#9c179e"
             ],
             [
              0.4444444444444444,
              "#bd3786"
             ],
             [
              0.5555555555555556,
              "#d8576b"
             ],
             [
              0.6666666666666666,
              "#ed7953"
             ],
             [
              0.7777777777777778,
              "#fb9f3a"
             ],
             [
              0.8888888888888888,
              "#fdca26"
             ],
             [
              1,
              "#f0f921"
             ]
            ],
            "type": "heatmapgl"
           }
          ],
          "histogram": [
           {
            "marker": {
             "colorbar": {
              "outlinewidth": 0,
              "ticks": ""
             }
            },
            "type": "histogram"
           }
          ],
          "histogram2d": [
           {
            "colorbar": {
             "outlinewidth": 0,
             "ticks": ""
            },
            "colorscale": [
             [
              0,
              "#0d0887"
             ],
             [
              0.1111111111111111,
              "#46039f"
             ],
             [
              0.2222222222222222,
              "#7201a8"
             ],
             [
              0.3333333333333333,
              "#9c179e"
             ],
             [
              0.4444444444444444,
              "#bd3786"
             ],
             [
              0.5555555555555556,
              "#d8576b"
             ],
             [
              0.6666666666666666,
              "#ed7953"
             ],
             [
              0.7777777777777778,
              "#fb9f3a"
             ],
             [
              0.8888888888888888,
              "#fdca26"
             ],
             [
              1,
              "#f0f921"
             ]
            ],
            "type": "histogram2d"
           }
          ],
          "histogram2dcontour": [
           {
            "colorbar": {
             "outlinewidth": 0,
             "ticks": ""
            },
            "colorscale": [
             [
              0,
              "#0d0887"
             ],
             [
              0.1111111111111111,
              "#46039f"
             ],
             [
              0.2222222222222222,
              "#7201a8"
             ],
             [
              0.3333333333333333,
              "#9c179e"
             ],
             [
              0.4444444444444444,
              "#bd3786"
             ],
             [
              0.5555555555555556,
              "#d8576b"
             ],
             [
              0.6666666666666666,
              "#ed7953"
             ],
             [
              0.7777777777777778,
              "#fb9f3a"
             ],
             [
              0.8888888888888888,
              "#fdca26"
             ],
             [
              1,
              "#f0f921"
             ]
            ],
            "type": "histogram2dcontour"
           }
          ],
          "mesh3d": [
           {
            "colorbar": {
             "outlinewidth": 0,
             "ticks": ""
            },
            "type": "mesh3d"
           }
          ],
          "parcoords": [
           {
            "line": {
             "colorbar": {
              "outlinewidth": 0,
              "ticks": ""
             }
            },
            "type": "parcoords"
           }
          ],
          "pie": [
           {
            "automargin": true,
            "type": "pie"
           }
          ],
          "scatter": [
           {
            "marker": {
             "colorbar": {
              "outlinewidth": 0,
              "ticks": ""
             }
            },
            "type": "scatter"
           }
          ],
          "scatter3d": [
           {
            "line": {
             "colorbar": {
              "outlinewidth": 0,
              "ticks": ""
             }
            },
            "marker": {
             "colorbar": {
              "outlinewidth": 0,
              "ticks": ""
             }
            },
            "type": "scatter3d"
           }
          ],
          "scattercarpet": [
           {
            "marker": {
             "colorbar": {
              "outlinewidth": 0,
              "ticks": ""
             }
            },
            "type": "scattercarpet"
           }
          ],
          "scattergeo": [
           {
            "marker": {
             "colorbar": {
              "outlinewidth": 0,
              "ticks": ""
             }
            },
            "type": "scattergeo"
           }
          ],
          "scattergl": [
           {
            "marker": {
             "colorbar": {
              "outlinewidth": 0,
              "ticks": ""
             }
            },
            "type": "scattergl"
           }
          ],
          "scattermapbox": [
           {
            "marker": {
             "colorbar": {
              "outlinewidth": 0,
              "ticks": ""
             }
            },
            "type": "scattermapbox"
           }
          ],
          "scatterpolar": [
           {
            "marker": {
             "colorbar": {
              "outlinewidth": 0,
              "ticks": ""
             }
            },
            "type": "scatterpolar"
           }
          ],
          "scatterpolargl": [
           {
            "marker": {
             "colorbar": {
              "outlinewidth": 0,
              "ticks": ""
             }
            },
            "type": "scatterpolargl"
           }
          ],
          "scatterternary": [
           {
            "marker": {
             "colorbar": {
              "outlinewidth": 0,
              "ticks": ""
             }
            },
            "type": "scatterternary"
           }
          ],
          "surface": [
           {
            "colorbar": {
             "outlinewidth": 0,
             "ticks": ""
            },
            "colorscale": [
             [
              0,
              "#0d0887"
             ],
             [
              0.1111111111111111,
              "#46039f"
             ],
             [
              0.2222222222222222,
              "#7201a8"
             ],
             [
              0.3333333333333333,
              "#9c179e"
             ],
             [
              0.4444444444444444,
              "#bd3786"
             ],
             [
              0.5555555555555556,
              "#d8576b"
             ],
             [
              0.6666666666666666,
              "#ed7953"
             ],
             [
              0.7777777777777778,
              "#fb9f3a"
             ],
             [
              0.8888888888888888,
              "#fdca26"
             ],
             [
              1,
              "#f0f921"
             ]
            ],
            "type": "surface"
           }
          ],
          "table": [
           {
            "cells": {
             "fill": {
              "color": "#EBF0F8"
             },
             "line": {
              "color": "white"
             }
            },
            "header": {
             "fill": {
              "color": "#C8D4E3"
             },
             "line": {
              "color": "white"
             }
            },
            "type": "table"
           }
          ]
         },
         "layout": {
          "annotationdefaults": {
           "arrowcolor": "#2a3f5f",
           "arrowhead": 0,
           "arrowwidth": 1
          },
          "autotypenumbers": "strict",
          "coloraxis": {
           "colorbar": {
            "outlinewidth": 0,
            "ticks": ""
           }
          },
          "colorscale": {
           "diverging": [
            [
             0,
             "#8e0152"
            ],
            [
             0.1,
             "#c51b7d"
            ],
            [
             0.2,
             "#de77ae"
            ],
            [
             0.3,
             "#f1b6da"
            ],
            [
             0.4,
             "#fde0ef"
            ],
            [
             0.5,
             "#f7f7f7"
            ],
            [
             0.6,
             "#e6f5d0"
            ],
            [
             0.7,
             "#b8e186"
            ],
            [
             0.8,
             "#7fbc41"
            ],
            [
             0.9,
             "#4d9221"
            ],
            [
             1,
             "#276419"
            ]
           ],
           "sequential": [
            [
             0,
             "#0d0887"
            ],
            [
             0.1111111111111111,
             "#46039f"
            ],
            [
             0.2222222222222222,
             "#7201a8"
            ],
            [
             0.3333333333333333,
             "#9c179e"
            ],
            [
             0.4444444444444444,
             "#bd3786"
            ],
            [
             0.5555555555555556,
             "#d8576b"
            ],
            [
             0.6666666666666666,
             "#ed7953"
            ],
            [
             0.7777777777777778,
             "#fb9f3a"
            ],
            [
             0.8888888888888888,
             "#fdca26"
            ],
            [
             1,
             "#f0f921"
            ]
           ],
           "sequentialminus": [
            [
             0,
             "#0d0887"
            ],
            [
             0.1111111111111111,
             "#46039f"
            ],
            [
             0.2222222222222222,
             "#7201a8"
            ],
            [
             0.3333333333333333,
             "#9c179e"
            ],
            [
             0.4444444444444444,
             "#bd3786"
            ],
            [
             0.5555555555555556,
             "#d8576b"
            ],
            [
             0.6666666666666666,
             "#ed7953"
            ],
            [
             0.7777777777777778,
             "#fb9f3a"
            ],
            [
             0.8888888888888888,
             "#fdca26"
            ],
            [
             1,
             "#f0f921"
            ]
           ]
          },
          "colorway": [
           "#636efa",
           "#EF553B",
           "#00cc96",
           "#ab63fa",
           "#FFA15A",
           "#19d3f3",
           "#FF6692",
           "#B6E880",
           "#FF97FF",
           "#FECB52"
          ],
          "font": {
           "color": "#2a3f5f"
          },
          "geo": {
           "bgcolor": "white",
           "lakecolor": "white",
           "landcolor": "#E5ECF6",
           "showlakes": true,
           "showland": true,
           "subunitcolor": "white"
          },
          "hoverlabel": {
           "align": "left"
          },
          "hovermode": "closest",
          "mapbox": {
           "style": "light"
          },
          "paper_bgcolor": "white",
          "plot_bgcolor": "#E5ECF6",
          "polar": {
           "angularaxis": {
            "gridcolor": "white",
            "linecolor": "white",
            "ticks": ""
           },
           "bgcolor": "#E5ECF6",
           "radialaxis": {
            "gridcolor": "white",
            "linecolor": "white",
            "ticks": ""
           }
          },
          "scene": {
           "xaxis": {
            "backgroundcolor": "#E5ECF6",
            "gridcolor": "white",
            "gridwidth": 2,
            "linecolor": "white",
            "showbackground": true,
            "ticks": "",
            "zerolinecolor": "white"
           },
           "yaxis": {
            "backgroundcolor": "#E5ECF6",
            "gridcolor": "white",
            "gridwidth": 2,
            "linecolor": "white",
            "showbackground": true,
            "ticks": "",
            "zerolinecolor": "white"
           },
           "zaxis": {
            "backgroundcolor": "#E5ECF6",
            "gridcolor": "white",
            "gridwidth": 2,
            "linecolor": "white",
            "showbackground": true,
            "ticks": "",
            "zerolinecolor": "white"
           }
          },
          "shapedefaults": {
           "line": {
            "color": "#2a3f5f"
           }
          },
          "ternary": {
           "aaxis": {
            "gridcolor": "white",
            "linecolor": "white",
            "ticks": ""
           },
           "baxis": {
            "gridcolor": "white",
            "linecolor": "white",
            "ticks": ""
           },
           "bgcolor": "#E5ECF6",
           "caxis": {
            "gridcolor": "white",
            "linecolor": "white",
            "ticks": ""
           }
          },
          "title": {
           "x": 0.05
          },
          "xaxis": {
           "automargin": true,
           "gridcolor": "white",
           "linecolor": "white",
           "ticks": "",
           "title": {
            "standoff": 15
           },
           "zerolinecolor": "white",
           "zerolinewidth": 2
          },
          "yaxis": {
           "automargin": true,
           "gridcolor": "white",
           "linecolor": "white",
           "ticks": "",
           "title": {
            "standoff": 15
           },
           "zerolinecolor": "white",
           "zerolinewidth": 2
          }
         }
        }
       }
      }
     },
     "metadata": {}
    }
   ],
   "source": [
    "years = ['2015', '2016', '2017', '2018', '2019', '2020',\n",
    "          '2021']\n",
    "\n",
    "fig = go.Figure()\n",
    "fig.add_trace(go.Bar(\n",
    "    x=years,\n",
    "    y=grouped_year_wind_coverage['wind_gen_yearly'],\n",
    "    name='Yearly produced windpower',\n",
    "    marker_color='indianred'\n",
    "))\n",
    "\"\"\"\n",
    "fig.add_trace(go.Bar(\n",
    "    x=months,\n",
    "    y=[19, 14, 22, 14, 16, 19, 15, 14, 10, 12, 12, 16],\n",
    "    name='Secondary Product',\n",
    "    marker_color='lightsalmon'\n",
    "))\n",
    "\n",
    "# Here we modify the tickangle of the xaxis, resulting in rotated labels.\n",
    "fig.update_layout(barmode='group', xaxis_tickangle=-45)\n",
    "\"\"\"\n",
    "fig.show()"
   ]
  },
  {
   "cell_type": "code",
   "execution_count": null,
   "metadata": {},
   "outputs": [],
   "source": []
  }
 ]
}